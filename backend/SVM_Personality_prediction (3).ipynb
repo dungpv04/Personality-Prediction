{
  "cells": [
    {
      "cell_type": "markdown",
      "metadata": {
        "id": "u26z0flOjJYr"
      },
      "source": [
        "Import thư viện cần thiết"
      ]
    },
    {
      "cell_type": "code",
      "execution_count": 1,
      "metadata": {
        "id": "C1aW2faSojFv"
      },
      "outputs": [
        {
          "ename": "ModuleNotFoundError",
          "evalue": "No module named 'xgboost'",
          "output_type": "error",
          "traceback": [
            "\u001b[1;31m---------------------------------------------------------------------------\u001b[0m",
            "\u001b[1;31mModuleNotFoundError\u001b[0m                       Traceback (most recent call last)",
            "Cell \u001b[1;32mIn[1], line 5\u001b[0m\n\u001b[0;32m      3\u001b[0m \u001b[38;5;28;01mfrom\u001b[39;00m \u001b[38;5;21;01msklearn\u001b[39;00m\u001b[38;5;21;01m.\u001b[39;00m\u001b[38;5;21;01msvm\u001b[39;00m \u001b[38;5;28;01mimport\u001b[39;00m SVC\n\u001b[0;32m      4\u001b[0m \u001b[38;5;28;01mfrom\u001b[39;00m \u001b[38;5;21;01msklearn\u001b[39;00m \u001b[38;5;28;01mimport\u001b[39;00m linear_model\n\u001b[1;32m----> 5\u001b[0m \u001b[38;5;28;01mfrom\u001b[39;00m \u001b[38;5;21;01mxgboost\u001b[39;00m \u001b[38;5;28;01mimport\u001b[39;00m XGBClassifier\n\u001b[0;32m      6\u001b[0m \u001b[38;5;28;01mfrom\u001b[39;00m \u001b[38;5;21;01msklearn\u001b[39;00m\u001b[38;5;21;01m.\u001b[39;00m\u001b[38;5;21;01mensemble\u001b[39;00m \u001b[38;5;28;01mimport\u001b[39;00m GradientBoostingClassifier\n\u001b[0;32m      7\u001b[0m \u001b[38;5;28;01mfrom\u001b[39;00m \u001b[38;5;21;01msklearn\u001b[39;00m\u001b[38;5;21;01m.\u001b[39;00m\u001b[38;5;21;01mmetrics\u001b[39;00m \u001b[38;5;28;01mimport\u001b[39;00m accuracy_score, confusion_matrix, precision_score, recall_score\n",
            "\u001b[1;31mModuleNotFoundError\u001b[0m: No module named 'xgboost'"
          ]
        }
      ],
      "source": [
        "import pandas as pd\n",
        "import numpy as np\n",
        "from sklearn.svm import SVC\n",
        "from sklearn import linear_model\n",
        "from xgboost import XGBClassifier\n",
        "from sklearn.ensemble import GradientBoostingClassifier\n",
        "from sklearn.metrics import accuracy_score, confusion_matrix, precision_score, recall_score\n",
        "from sklearn.metrics import classification_report\n",
        "import matplotlib.pyplot as plt\n",
        "import seaborn as sns\n",
        "import joblib\n",
        "import matplotlib.pyplot as plt\n",
        "from importlib import reload\n",
        "from xgboost import XGBClassifier\n",
        "plt=reload(plt)"
      ]
    },
    {
      "cell_type": "markdown",
      "metadata": {
        "id": "wklveSbojUSy"
      },
      "source": [
        "Đọc dữ liệu dataset"
      ]
    },
    {
      "cell_type": "code",
      "execution_count": null,
      "metadata": {
        "id": "HKV57BYHpJzB"
      },
      "outputs": [
        {
          "ename": "",
          "evalue": "",
          "output_type": "error",
          "traceback": [
            "\u001b[1;31mRunning cells with 'personality_prediction (Python 3.11.5)' requires the ipykernel package.\n",
            "\u001b[1;31mRun the following command to install 'ipykernel' into the Python environment. \n",
            "\u001b[1;31mCommand: 'e:/personality_prediction/scripts/python.exe -m pip install ipykernel -U --force-reinstall'"
          ]
        }
      ],
      "source": [
        "train_df = pd.read_csv('train dataset.csv')\n",
        "test_df = pd.read_csv('test dataset.csv')"
      ]
    },
    {
      "cell_type": "markdown",
      "metadata": {
        "id": "xHP_liJojfQZ"
      },
      "source": [
        "Đổi tên y của test_df và train_df"
      ]
    },
    {
      "cell_type": "code",
      "execution_count": null,
      "metadata": {
        "id": "Vm3ovahHpQlC"
      },
      "outputs": [
        {
          "ename": "",
          "evalue": "",
          "output_type": "error",
          "traceback": [
            "\u001b[1;31mRunning cells with 'personality_prediction (Python 3.11.5)' requires the ipykernel package.\n",
            "\u001b[1;31mRun the following command to install 'ipykernel' into the Python environment. \n",
            "\u001b[1;31mCommand: 'e:/personality_prediction/scripts/python.exe -m pip install ipykernel -U --force-reinstall'"
          ]
        }
      ],
      "source": [
        "train_df.rename(columns = {'Personality (Class label)':'Personality'}, inplace = True)\n",
        "test_df.rename(columns = {'Personality (class label)':'Personality'}, inplace = True)"
      ]
    },
    {
      "cell_type": "code",
      "execution_count": null,
      "metadata": {
        "colab": {
          "base_uri": "https://localhost:8080/",
          "height": 206
        },
        "id": "WMLjgSZUoZMy",
        "outputId": "d23daa87-b9d4-4fae-8cd2-77af232b9d8f"
      },
      "outputs": [
        {
          "ename": "",
          "evalue": "",
          "output_type": "error",
          "traceback": [
            "\u001b[1;31mRunning cells with 'personality_prediction (Python 3.11.5)' requires the ipykernel package.\n",
            "\u001b[1;31mRun the following command to install 'ipykernel' into the Python environment. \n",
            "\u001b[1;31mCommand: 'e:/personality_prediction/scripts/python.exe -m pip install ipykernel -U --force-reinstall'"
          ]
        }
      ],
      "source": [
        "train_df.head()"
      ]
    },
    {
      "cell_type": "markdown",
      "metadata": {
        "id": "rqu94noBj6Uy"
      },
      "source": [
        "Trực quan hoá các đặc điểm đầu vào của train_df"
      ]
    },
    {
      "cell_type": "code",
      "execution_count": null,
      "metadata": {
        "colab": {
          "base_uri": "https://localhost:8080/",
          "height": 449
        },
        "id": "E-TWWGAr3Ibr",
        "outputId": "14058f16-e1c2-46c0-ab5d-0e4a5cac588e"
      },
      "outputs": [
        {
          "ename": "",
          "evalue": "",
          "output_type": "error",
          "traceback": [
            "\u001b[1;31mRunning cells with 'personality_prediction (Python 3.11.5)' requires the ipykernel package.\n",
            "\u001b[1;31mRun the following command to install 'ipykernel' into the Python environment. \n",
            "\u001b[1;31mCommand: 'e:/personality_prediction/scripts/python.exe -m pip install ipykernel -U --force-reinstall'"
          ]
        }
      ],
      "source": [
        "sns.boxplot(x=train_df['Gender'], y=train_df['Personality'])\n",
        "plt.xlabel('Giới tính')\n",
        "plt.ylabel('Tính cách')\n",
        "plt.yticks([0,1,2,3,4] , ['Trách nhiệm', 'Sôi nổi', 'Đáng tin cậy', 'Nghiêm túc', 'Hướng ngoại'])\n",
        "# plt.xticks([0, 1], ['Nam', 'Nữ'])\n",
        "plt.show()"
      ]
    },
    {
      "cell_type": "code",
      "execution_count": null,
      "metadata": {
        "colab": {
          "base_uri": "https://localhost:8080/",
          "height": 450
        },
        "id": "gE4vfn7ZkEuB",
        "outputId": "c262069f-aeb4-4df7-e362-7e4f0be57ec9"
      },
      "outputs": [
        {
          "ename": "",
          "evalue": "",
          "output_type": "error",
          "traceback": [
            "\u001b[1;31mRunning cells with 'personality_prediction (Python 3.11.5)' requires the ipykernel package.\n",
            "\u001b[1;31mRun the following command to install 'ipykernel' into the Python environment. \n",
            "\u001b[1;31mCommand: 'e:/personality_prediction/scripts/python.exe -m pip install ipykernel -U --force-reinstall'"
          ]
        }
      ],
      "source": [
        "sns.boxplot(x = train_df['Personality'], y = train_df['Age'])\n",
        "plt.ylabel(\"Tuổi\")\n",
        "plt.xlabel('Tính cách')\n",
        "plt.xticks([0,1,2,3,4] , ['Hướng ngoại', 'Nghiêm túc', 'Đáng tin cậy', 'Sôi nổi', 'Trách nhiệm'])\n",
        "plt.show()"
      ]
    },
    {
      "cell_type": "code",
      "execution_count": null,
      "metadata": {
        "colab": {
          "base_uri": "https://localhost:8080/"
        },
        "id": "vSajG7fpoKes",
        "outputId": "6677ff43-f142-4296-da53-be49f1dc72d8"
      },
      "outputs": [
        {
          "ename": "",
          "evalue": "",
          "output_type": "error",
          "traceback": [
            "\u001b[1;31mRunning cells with 'personality_prediction (Python 3.11.5)' requires the ipykernel package.\n",
            "\u001b[1;31mRun the following command to install 'ipykernel' into the Python environment. \n",
            "\u001b[1;31mCommand: 'e:/personality_prediction/scripts/python.exe -m pip install ipykernel -U --force-reinstall'"
          ]
        }
      ],
      "source": [
        "filtered_df = train_df[(train_df['Gender'] != 'Male') & (train_df['Gender'] != 'Female')]\n",
        "\n",
        "# Hiển thị 1 dòng từ filtered_df\n",
        "print(filtered_df.head(1).rename(columns={\n",
        "    \"Gender\": \"Giới tính\",\n",
        "    \"Age\": \"Tuổi\",\n",
        "    \"openness\": \"Hoà đồng\",\n",
        "    \"neuroticism\": \"Nhạy cảm\",\n",
        "    \"conscientiousness\": \"Tận tâm\",\n",
        "    \"agreeableness\": \"Hoà thuận\",\n",
        "    \"extraversion\": \"Hướng ngoại\",\n",
        "    \"Personality\": \"Tính cách\"\n",
        "}))"
      ]
    },
    {
      "cell_type": "markdown",
      "metadata": {
        "id": "UzNq6Ys7qjz7"
      },
      "source": []
    },
    {
      "cell_type": "code",
      "execution_count": null,
      "metadata": {
        "colab": {
          "base_uri": "https://localhost:8080/",
          "height": 450
        },
        "id": "WHU6kUljmmNU",
        "outputId": "8fcf7e9b-0d8a-40e8-bafb-7b1dc0e910d3"
      },
      "outputs": [
        {
          "ename": "",
          "evalue": "",
          "output_type": "error",
          "traceback": [
            "\u001b[1;31mRunning cells with 'personality_prediction (Python 3.11.5)' requires the ipykernel package.\n",
            "\u001b[1;31mRun the following command to install 'ipykernel' into the Python environment. \n",
            "\u001b[1;31mCommand: 'e:/personality_prediction/scripts/python.exe -m pip install ipykernel -U --force-reinstall'"
          ]
        }
      ],
      "source": [
        "sns.boxplot(x = train_df['Personality'], y = train_df['conscientiousness'])\n",
        "plt.xlabel('Tính cách')\n",
        "plt.xticks([0,1,2,3,4] , ['Hướng ngoại', 'Nghiêm túc', 'Đáng tin cậy', 'Sôi nổi', 'Trách nhiệm'])\n",
        "plt.ylabel('Tận tâm')\n",
        "plt.show()"
      ]
    },
    {
      "cell_type": "code",
      "execution_count": null,
      "metadata": {
        "colab": {
          "base_uri": "https://localhost:8080/",
          "height": 450
        },
        "id": "Uo5zh0TOn-Ar",
        "outputId": "01df931d-17ac-491d-ed69-b1ce8c179936"
      },
      "outputs": [
        {
          "ename": "",
          "evalue": "",
          "output_type": "error",
          "traceback": [
            "\u001b[1;31mRunning cells with 'personality_prediction (Python 3.11.5)' requires the ipykernel package.\n",
            "\u001b[1;31mRun the following command to install 'ipykernel' into the Python environment. \n",
            "\u001b[1;31mCommand: 'e:/personality_prediction/scripts/python.exe -m pip install ipykernel -U --force-reinstall'"
          ]
        }
      ],
      "source": [
        "sns.boxplot(x = train_df['Personality'], y = train_df['extraversion'])\n",
        "plt.xlabel('Tính cách')\n",
        "plt.xticks([0,1,2,3,4] , ['Hướng ngoại', 'Nghiêm túc', 'Đáng tin cậy', 'Sôi nổi', 'Trách nhiệm'])\n",
        "plt.ylabel('Hướng ngoại')\n",
        "plt.show()"
      ]
    },
    {
      "cell_type": "code",
      "execution_count": null,
      "metadata": {
        "colab": {
          "base_uri": "https://localhost:8080/",
          "height": 450
        },
        "id": "jPUxQxDVoCeJ",
        "outputId": "d69b4c08-c4f1-4733-8a03-c57da8236fb8"
      },
      "outputs": [
        {
          "ename": "",
          "evalue": "",
          "output_type": "error",
          "traceback": [
            "\u001b[1;31mRunning cells with 'personality_prediction (Python 3.11.5)' requires the ipykernel package.\n",
            "\u001b[1;31mRun the following command to install 'ipykernel' into the Python environment. \n",
            "\u001b[1;31mCommand: 'e:/personality_prediction/scripts/python.exe -m pip install ipykernel -U --force-reinstall'"
          ]
        }
      ],
      "source": [
        "sns.boxplot(x = train_df['Personality'], y = train_df['neuroticism'])\n",
        "plt.xlabel('Tính cách')\n",
        "plt.xticks([0,1,2,3,4] , ['Hướng ngoại', 'Nghiêm túc', 'Đáng tin cậy', 'Sôi nổi', 'Trách nhiệm'])\n",
        "plt.ylabel('Nhạy cảm')\n",
        "plt.show()"
      ]
    },
    {
      "cell_type": "code",
      "execution_count": null,
      "metadata": {
        "colab": {
          "base_uri": "https://localhost:8080/",
          "height": 450
        },
        "id": "6epahhtRcUd_",
        "outputId": "48c7a8ab-79f9-4571-8f46-000ec1d45cbb"
      },
      "outputs": [
        {
          "ename": "",
          "evalue": "",
          "output_type": "error",
          "traceback": [
            "\u001b[1;31mRunning cells with 'personality_prediction (Python 3.11.5)' requires the ipykernel package.\n",
            "\u001b[1;31mRun the following command to install 'ipykernel' into the Python environment. \n",
            "\u001b[1;31mCommand: 'e:/personality_prediction/scripts/python.exe -m pip install ipykernel -U --force-reinstall'"
          ]
        }
      ],
      "source": [
        "sns.boxplot(x = train_df['Personality'], y = train_df['agreeableness'])\n",
        "plt.xlabel('Tính cách')\n",
        "plt.xticks([0,1,2,3,4] , ['Hướng ngoại', 'Nghiêm túc', 'Đáng tin cậy', 'Sôi nổi', 'Trách nhiệm'])\n",
        "plt.ylabel('Hoà thuận')\n",
        "plt.show()"
      ]
    },
    {
      "cell_type": "code",
      "execution_count": null,
      "metadata": {
        "colab": {
          "base_uri": "https://localhost:8080/",
          "height": 450
        },
        "id": "ghv_4ByxoG0w",
        "outputId": "0c074715-435b-456e-c723-5211600c29eb"
      },
      "outputs": [
        {
          "ename": "",
          "evalue": "",
          "output_type": "error",
          "traceback": [
            "\u001b[1;31mRunning cells with 'personality_prediction (Python 3.11.5)' requires the ipykernel package.\n",
            "\u001b[1;31mRun the following command to install 'ipykernel' into the Python environment. \n",
            "\u001b[1;31mCommand: 'e:/personality_prediction/scripts/python.exe -m pip install ipykernel -U --force-reinstall'"
          ]
        }
      ],
      "source": [
        "sns.boxplot(x = train_df['Personality'], y = train_df['openness'])\n",
        "plt.xlabel('Tính cách')\n",
        "plt.xticks([0,1,2,3,4] , ['Hướng ngoại', 'Nghiêm túc', 'Đáng tin cậy', 'Sôi nổi', 'Trách nhiệm'])\n",
        "plt.ylabel('Hoà đồng')\n",
        "plt.show()"
      ]
    },
    {
      "cell_type": "markdown",
      "metadata": {
        "id": "tFrqAw4uqoGc"
      },
      "source": [
        "Tiền xử lý dữ liệu: gender thành dạng số: 1 nếu là nam, 0 nếu là nữ hoặc dữ liệu không nằm trong nam và nữ"
      ]
    },
    {
      "cell_type": "code",
      "execution_count": null,
      "metadata": {
        "id": "_O7YzJgUlTPl"
      },
      "outputs": [
        {
          "ename": "",
          "evalue": "",
          "output_type": "error",
          "traceback": [
            "\u001b[1;31mRunning cells with 'personality_prediction (Python 3.11.5)' requires the ipykernel package.\n",
            "\u001b[1;31mRun the following command to install 'ipykernel' into the Python environment. \n",
            "\u001b[1;31mCommand: 'e:/personality_prediction/scripts/python.exe -m pip install ipykernel -U --force-reinstall'"
          ]
        }
      ],
      "source": [
        "# train_df = train_df[train_df['Gender'].isin(['Male', 'Female'])]"
      ]
    },
    {
      "cell_type": "markdown",
      "metadata": {
        "id": "jZyZYBB8ljS8"
      },
      "source": []
    },
    {
      "cell_type": "markdown",
      "metadata": {
        "id": "67voPDjspa-k"
      },
      "source": []
    },
    {
      "cell_type": "code",
      "execution_count": null,
      "metadata": {
        "colab": {
          "base_uri": "https://localhost:8080/",
          "height": 206
        },
        "id": "pW-2Dd9cqo3H",
        "outputId": "865d5ab3-eef7-4573-e531-2047fe55c330"
      },
      "outputs": [
        {
          "ename": "",
          "evalue": "",
          "output_type": "error",
          "traceback": [
            "\u001b[1;31mRunning cells with 'personality_prediction (Python 3.11.5)' requires the ipykernel package.\n",
            "\u001b[1;31mRun the following command to install 'ipykernel' into the Python environment. \n",
            "\u001b[1;31mCommand: 'e:/personality_prediction/scripts/python.exe -m pip install ipykernel -U --force-reinstall'"
          ]
        }
      ],
      "source": [
        "train_df['Gender'] = train_df['Gender'].apply(lambda x: 1 if x == \"Male\" else 0)\n",
        "test_df['Gender'] = test_df['Gender'].apply(lambda x: 1 if x == \"Male\" else 0)\n",
        "train_df.head()\n",
        "\n",
        "train_df[\"Personality\"] = train_df[\"Personality\"].replace(\n",
        "                                                                {\"extraverted\":0,\n",
        "                                                                \"dependable\":1,\n",
        "                                                                \"lively\":2,\n",
        "                                                                \"responsible\":3,\n",
        "                                                                \"serious\":4})\n",
        "test_df[\"Personality\"] = test_df[\"Personality\"].replace(\n",
        "                                                                {\"extraverted\":0,\n",
        "                                                                \"dependable\":1,\n",
        "                                                                \"lively\":2,\n",
        "                                                                \"responsible\":3,\n",
        "                                                                \"serious\":4})\n",
        "train_df_translate = train_df.rename(columns={\n",
        "    \"Gender\": \"Giới tính\",\n",
        "    \"Age\": \"Tuổi\",\n",
        "    \"openness\": \"Mở lòng\",\n",
        "    \"neuroticism\": \"Cảm xúc\",\n",
        "    \"conscientiousness\": \"Tận tụy\",\n",
        "    \"agreeableness\": \"Dễ tính\",\n",
        "    \"extraversion\": \"Hướng ngoại\",\n",
        "    \"Personality\": \"Tính cách\"\n",
        "})\n",
        "\n",
        "train_df.head().rename(columns={\n",
        "    \"Gender\": \"Giới tính\",\n",
        "    \"Age\": \"Tuổi\",\n",
        "    \"openness\": \"Hoà đồng\",\n",
        "    \"neuroticism\": \"Nhạy cảm\",\n",
        "    \"conscientiousness\": \"Tận tâm\",\n",
        "    \"agreeableness\": \"Hoà thuận\",\n",
        "    \"extraversion\": \"Hướng ngoại\",\n",
        "    \"Personality\": \"Tính cách\"\n",
        "})"
      ]
    },
    {
      "cell_type": "code",
      "execution_count": null,
      "metadata": {
        "colab": {
          "base_uri": "https://localhost:8080/"
        },
        "id": "MTPwULRxz8Hp",
        "outputId": "251cc010-64ab-4494-aac3-145eba54c67b"
      },
      "outputs": [
        {
          "ename": "",
          "evalue": "",
          "output_type": "error",
          "traceback": [
            "\u001b[1;31mRunning cells with 'personality_prediction (Python 3.11.5)' requires the ipykernel package.\n",
            "\u001b[1;31mRun the following command to install 'ipykernel' into the Python environment. \n",
            "\u001b[1;31mCommand: 'e:/personality_prediction/scripts/python.exe -m pip install ipykernel -U --force-reinstall'"
          ]
        }
      ],
      "source": [
        "# Cài đặt mô hình SVM với kernel linear, C = 5\n",
        "# model = SVC(kernel='linear', C=5)\n",
        "# model = linear_model.LogisticRegression(multi_class='multinomial', solver='newton-cg',max_iter =1000)\n",
        "model = XGBClassifier(n_estimators = 750, booster = \"gblinear\")\n",
        "x_train = train_df.drop('Personality', axis=1).values\n",
        "y_train = train_df['Personality'].values\n",
        "\n",
        "x_test = test_df.drop('Personality', axis=1).values\n",
        "y_test = test_df['Personality'].values\n",
        "# Huấn luyện mô hình trên tập dữ liệu huấn luyện\n",
        "model.fit(x_train, y_train)\n",
        "\n",
        "#dump model\n",
        "# joblib.dump(model, \"SVC.joblib\")\n",
        "joblib.dump(model, \"XGBoost.joblib\")"
      ]
    },
    {
      "cell_type": "code",
      "execution_count": null,
      "metadata": {
        "colab": {
          "base_uri": "https://localhost:8080/"
        },
        "id": "tp57rS9qUXIz",
        "outputId": "2adcdbda-e7bb-4920-9360-8a3aaff83bee"
      },
      "outputs": [
        {
          "ename": "",
          "evalue": "",
          "output_type": "error",
          "traceback": [
            "\u001b[1;31mRunning cells with 'personality_prediction (Python 3.11.5)' requires the ipykernel package.\n",
            "\u001b[1;31mRun the following command to install 'ipykernel' into the Python environment. \n",
            "\u001b[1;31mCommand: 'e:/personality_prediction/scripts/python.exe -m pip install ipykernel -U --force-reinstall'"
          ]
        }
      ],
      "source": [
        "# Đánh giá mô hình trên tập dữ liệu kiểm tra\n",
        "y_pred = model.predict(x_test)\n",
        "\n",
        "# Tính độ chính xác của mô hình\n",
        "accuracy = accuracy_score(y_test, y_pred)\n",
        "print(\"Accuracy:\", accuracy)\n",
        "\n",
        "# In báo cáo phân loại\n",
        "print(classification_report(y_test, y_pred))"
      ]
    },
    {
      "cell_type": "code",
      "execution_count": null,
      "metadata": {
        "colab": {
          "base_uri": "https://localhost:8080/",
          "height": 698
        },
        "id": "w9n06rx5EnkZ",
        "outputId": "e25aab67-2d9c-4577-8483-dbb4d824ff06"
      },
      "outputs": [
        {
          "ename": "",
          "evalue": "",
          "output_type": "error",
          "traceback": [
            "\u001b[1;31mRunning cells with 'personality_prediction (Python 3.11.5)' requires the ipykernel package.\n",
            "\u001b[1;31mRun the following command to install 'ipykernel' into the Python environment. \n",
            "\u001b[1;31mCommand: 'e:/personality_prediction/scripts/python.exe -m pip install ipykernel -U --force-reinstall'"
          ]
        }
      ],
      "source": [
        "# Đánh giá mô hình bằng confusion matrix\n",
        "cm = confusion_matrix(y_test, y_pred)\n",
        "\n",
        "# Vẽ biểu đồ cho confusion matrix\n",
        "sns.heatmap(cm, annot=True, fmt=\"d\", cmap=\"Blues\")\n",
        "plt.xlabel(\"Predicted\")\n",
        "plt.ylabel(\"Actual\")\n",
        "plt.title(\"Confusion Matrix\")\n",
        "plt.show()\n",
        "\n",
        "print(\"Classification Report:\")\n",
        "print(classification_report(y_test, y_pred))\n"
      ]
    },
    {
      "cell_type": "code",
      "execution_count": null,
      "metadata": {
        "colab": {
          "base_uri": "https://localhost:8080/"
        },
        "id": "wd8kVDqeyE4C",
        "outputId": "1f7cfd2a-8921-4038-da1c-4af26dff9966"
      },
      "outputs": [
        {
          "ename": "",
          "evalue": "",
          "output_type": "error",
          "traceback": [
            "\u001b[1;31mRunning cells with 'personality_prediction (Python 3.11.5)' requires the ipykernel package.\n",
            "\u001b[1;31mRun the following command to install 'ipykernel' into the Python environment. \n",
            "\u001b[1;31mCommand: 'e:/personality_prediction/scripts/python.exe -m pip install ipykernel -U --force-reinstall'"
          ]
        }
      ],
      "source": [
        "# Mapping dictionary\n",
        "label_map = {0: \"extraverted\", 1: \"dependable\", 2: \"lively\", 3: \"responsible\", 4: \"serious\"}\n",
        "\n",
        "# Applying mapping using indexing\n",
        "y_pred_labels = np.array([label_map[val] for val in y_pred])\n",
        "\n",
        "print(y_pred_labels)"
      ]
    }
  ],
  "metadata": {
    "colab": {
      "provenance": []
    },
    "kernelspec": {
      "display_name": "Python 3",
      "name": "python3"
    },
    "language_info": {
      "codemirror_mode": {
        "name": "ipython",
        "version": 3
      },
      "file_extension": ".py",
      "mimetype": "text/x-python",
      "name": "python",
      "nbconvert_exporter": "python",
      "pygments_lexer": "ipython3",
      "version": "3.11.5"
    }
  },
  "nbformat": 4,
  "nbformat_minor": 0
}
